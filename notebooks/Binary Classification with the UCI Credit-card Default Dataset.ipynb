{
 "cells": [
  {
   "cell_type": "markdown",
   "metadata": {},
   "source": [
    "# Binary Classification with the UCI Credit-card Default Dataset\n",
    "_**Mitigating disparities in false-positive rates and false-negative rates**_"
   ]
  },
  {
   "cell_type": "markdown",
   "metadata": {},
   "source": [
    "## Contents\n",
    "\n",
    "1. [What is Covered](#What-is-Covered)\n",
    "1. [Introduction](#Introduction)\n",
    "1. [The UCI Credit-card Default Dataset](#The-UCI-Credit-card-Default-Dataset)\n",
    "1. [Using a Fairness Unaware Model](#Using-a-Fairness-Unaware-Model)\n",
    "1. [Mitigating Equalized Odds Difference with Postprocessing](#Mitigating-Equalized-Odds-Difference-with-Postprocessing)\n",
    "1. [Mitigating Equalized Odds Difference with GridSearch](#Mitigating-Equalized-Odds-Difference-with-GridSearch)\n",
    "1. [Conclusion](#Conclusion)"
   ]
  },
  {
   "cell_type": "markdown",
   "metadata": {},
   "source": [
    "## What is Covered\n",
    "\n",
    "* **Domain:**\n",
    "  * Finance (loan decisions). The data is semisynthetic to create a simple example of disparities in FPR and FNR.\n",
    "\n",
    "* **ML task:**\n",
    "  * Binary classification.\n",
    "\n",
    "* **Fairness tasks:**\n",
    "  * Assessment of unfairness using Fairlearn metrics.\n",
    "  * Mitigation of unfairness using Fairlearn mitigation algorithms.\n",
    "\n",
    "* **Performance metrics:**\n",
    "  * Area under ROC curve.\n",
    "  * Balanced accuracy.\n",
    "\n",
    "* **Fairness metrics:**\n",
    "  * False-positive rate difference.\n",
    "  * False-negative rate difference.\n",
    "  * Equalized-odds difference.\n",
    "\n",
    "* **Mitigation algorithms:**\n",
    "  * `fairlearn.reductions.GridSearch`\n",
    "  * `fairlearn.postprocessing.ThresholdOptimizer`"
   ]
  },
  {
   "cell_type": "markdown",
   "metadata": {},
   "source": [
<<<<<<< HEAD
    "## Introduction (old)\n",
=======
    "## Introduction\n",
>>>>>>> 771d6cd061cee1314fbad46785011d9d98075818
    "\n",
    "In this notebook, we consider a scenario where algorithmic tools are deployed to predict the likelihood that an applicant will default on a credit-card loan. The notebook emulates the problem presented in this [white paper](https://www.microsoft.com/en-us/research/uploads/prod/2020/09/Fairlearn-EY_WhitePaper-2020-09-22.pdf) in collaboration with EY.\n",
    "\n",
    "Due to data privacy, we do not use the data from the white paper. Instead, we use the [UCI Credit-card default dataset](https://archive.ics.uci.edu/ml/datasets/default+of+credit+card+clients), a toy dataset reflecting credit-card defaults in Taiwan, as a substitute dataset to replicate the desired workflow. To make this dataset applicable to our problem, we introduce a synthethic feature that is highly predictive for applicants defined as \"female\" in terms of the \"sex\" feature, but is uninformative for applicants defined as \"male\".\n",
    "\n",
    "We train a fairness-unaware algorithm on this dataset and show the model has a higher false-positive rate as well as a higher false-negative rate for the \"male\" group than for the \"female\" group. We then use Fairlearn to mitigate this disparity using both the `ThresholdOptimizer` and `GridSearch` algorithms."
   ]
  },
  {
   "cell_type": "markdown",
   "metadata": {},
   "source": [
    "## EY Case Study\n",
    "\n",
    "This notebook emulates the problem presented in this [white paper](https://www.microsoft.com/en-us/research/uploads/prod/2020/09/Fairlearn-EY_WhitePaper-2020-09-22.pdf) in collaboration with EY. Due to data security concerns, we cannot share the original dataset used in this analysis. \n",
    "\n",
    "We use the [UCI Credit-Card default] dataset, a toy dataset reflecting credit-card defaults in Taiwan, as a substitute dataset to replicate the desired workflow. To make this dataset applicable to our problem, we introduce a synthethic feature that has strong predictive power for female clients, but is uninformative for male applicants."
   ]
  },
  {
   "cell_type": "markdown",
   "metadata": {},
   "source": [
    "## Introduction (new)"
   ]
  },
  {
   "cell_type": "markdown",
   "metadata": {},
   "source": [
    "In this example, we model scenarios where algorithmic tools are deployed to predict the likelihood an applicant will default on a credit loan. We train a fairness-unaware algorithm on this dataset and show the model has higher predictive accuracy for women. We then use Fairlearn to mitigate this disparity in performance using both the `ThresholdOptimizer` and `GridSearch`.\n"
   ]
  },
  {
   "cell_type": "markdown",
   "metadata": {},
   "source": [
    "# Predicting Credit Defaults"
   ]
  },
  {
   "cell_type": "markdown",
   "metadata": {},
   "source": [
    "### "
   ]
  },
  {
   "cell_type": "code",
   "execution_count": 2,
   "metadata": {},
   "outputs": [],
   "source": [
    "# General imports\n",
    "import numpy as np\n",
    "import pandas as pd\n",
    "import matplotlib.pyplot as plt\n",
    "%matplotlib inline\n",
    "\n",
    "# Data processing\n",
    "from sklearn.model_selection import train_test_split\n",
    "\n",
    "# Models\n",
    "import lightgbm as lgb\n",
    "from sklearn.calibration import CalibratedClassifierCV\n",
    "\n",
    "# Fairlearn algorithms and utils\n",
    "from fairlearn.postprocessing import ThresholdOptimizer\n",
    "from fairlearn.reductions import GridSearch, EqualizedOdds\n",
    "\n",
    "# Metrics\n",
    "from fairlearn.metrics import (\n",
    "    MetricFrame,\n",
    "    selection_rate, demographic_parity_difference, demographic_parity_ratio,\n",
    "    false_positive_rate, false_negative_rate,\n",
    "    false_positive_rate_difference, false_negative_rate_difference,\n",
    "    equalized_odds_difference)\n",
    "from sklearn.metrics import balanced_accuracy_score, roc_auc_score"
   ]
  },
  {
   "cell_type": "markdown",
   "metadata": {},
   "source": [
    "## The UCI Credit-card Default Dataset\n",
    "\n",
    "The UCI dataset contains data on 30,000 clients and their credit card transactions at a bank in Taiwan. In addition to static client features, the dataset contains the history of credit card bill payments between April and September 2005, as well as the balance limit of the client's credit card. The target is whether the client will default on a card payment in the following month, October 2005. A model trained on this data could be used, in part, to determine whether a client is eligible for another loan or a credit increase."
   ]
  },
  {
   "cell_type": "code",
   "execution_count": 3,
   "metadata": {},
   "outputs": [
    {
     "data": {
      "text/html": [
       "<div>\n",
       "<style scoped>\n",
       "    .dataframe tbody tr th:only-of-type {\n",
       "        vertical-align: middle;\n",
       "    }\n",
       "\n",
       "    .dataframe tbody tr th {\n",
       "        vertical-align: top;\n",
       "    }\n",
       "\n",
       "    .dataframe thead th {\n",
       "        text-align: right;\n",
       "    }\n",
       "</style>\n",
       "<table border=\"1\" class=\"dataframe\">\n",
       "  <thead>\n",
       "    <tr style=\"text-align: right;\">\n",
       "      <th></th>\n",
       "      <th>LIMIT_BAL</th>\n",
       "      <th>SEX</th>\n",
       "      <th>EDUCATION</th>\n",
       "      <th>MARRIAGE</th>\n",
       "      <th>AGE</th>\n",
       "      <th>PAY_1</th>\n",
       "      <th>PAY_2</th>\n",
       "      <th>PAY_3</th>\n",
       "      <th>PAY_4</th>\n",
       "      <th>PAY_5</th>\n",
       "      <th>...</th>\n",
       "      <th>BILL_AMT4</th>\n",
       "      <th>BILL_AMT5</th>\n",
       "      <th>BILL_AMT6</th>\n",
       "      <th>PAY_AMT1</th>\n",
       "      <th>PAY_AMT2</th>\n",
       "      <th>PAY_AMT3</th>\n",
       "      <th>PAY_AMT4</th>\n",
       "      <th>PAY_AMT5</th>\n",
       "      <th>PAY_AMT6</th>\n",
       "      <th>default payment next month</th>\n",
       "    </tr>\n",
       "  </thead>\n",
       "  <tbody>\n",
       "    <tr>\n",
       "      <th>0</th>\n",
       "      <td>20000</td>\n",
       "      <td>2</td>\n",
       "      <td>2</td>\n",
       "      <td>1</td>\n",
       "      <td>24</td>\n",
       "      <td>2</td>\n",
       "      <td>2</td>\n",
       "      <td>-1</td>\n",
       "      <td>-1</td>\n",
       "      <td>-2</td>\n",
       "      <td>...</td>\n",
       "      <td>0</td>\n",
       "      <td>0</td>\n",
       "      <td>0</td>\n",
       "      <td>0</td>\n",
       "      <td>689</td>\n",
       "      <td>0</td>\n",
       "      <td>0</td>\n",
       "      <td>0</td>\n",
       "      <td>0</td>\n",
       "      <td>1</td>\n",
       "    </tr>\n",
       "    <tr>\n",
       "      <th>1</th>\n",
       "      <td>120000</td>\n",
       "      <td>2</td>\n",
       "      <td>2</td>\n",
       "      <td>2</td>\n",
       "      <td>26</td>\n",
       "      <td>-1</td>\n",
       "      <td>2</td>\n",
       "      <td>0</td>\n",
       "      <td>0</td>\n",
       "      <td>0</td>\n",
       "      <td>...</td>\n",
       "      <td>3272</td>\n",
       "      <td>3455</td>\n",
       "      <td>3261</td>\n",
       "      <td>0</td>\n",
       "      <td>1000</td>\n",
       "      <td>1000</td>\n",
       "      <td>1000</td>\n",
       "      <td>0</td>\n",
       "      <td>2000</td>\n",
       "      <td>1</td>\n",
       "    </tr>\n",
       "    <tr>\n",
       "      <th>2</th>\n",
       "      <td>90000</td>\n",
       "      <td>2</td>\n",
       "      <td>2</td>\n",
       "      <td>2</td>\n",
       "      <td>34</td>\n",
       "      <td>0</td>\n",
       "      <td>0</td>\n",
       "      <td>0</td>\n",
       "      <td>0</td>\n",
       "      <td>0</td>\n",
       "      <td>...</td>\n",
       "      <td>14331</td>\n",
       "      <td>14948</td>\n",
       "      <td>15549</td>\n",
       "      <td>1518</td>\n",
       "      <td>1500</td>\n",
       "      <td>1000</td>\n",
       "      <td>1000</td>\n",
       "      <td>1000</td>\n",
       "      <td>5000</td>\n",
       "      <td>0</td>\n",
       "    </tr>\n",
       "    <tr>\n",
       "      <th>3</th>\n",
       "      <td>50000</td>\n",
       "      <td>2</td>\n",
       "      <td>2</td>\n",
       "      <td>1</td>\n",
       "      <td>37</td>\n",
       "      <td>0</td>\n",
       "      <td>0</td>\n",
       "      <td>0</td>\n",
       "      <td>0</td>\n",
       "      <td>0</td>\n",
       "      <td>...</td>\n",
       "      <td>28314</td>\n",
       "      <td>28959</td>\n",
       "      <td>29547</td>\n",
       "      <td>2000</td>\n",
       "      <td>2019</td>\n",
       "      <td>1200</td>\n",
       "      <td>1100</td>\n",
       "      <td>1069</td>\n",
       "      <td>1000</td>\n",
       "      <td>0</td>\n",
       "    </tr>\n",
       "    <tr>\n",
       "      <th>4</th>\n",
       "      <td>50000</td>\n",
       "      <td>1</td>\n",
       "      <td>2</td>\n",
       "      <td>1</td>\n",
       "      <td>57</td>\n",
       "      <td>-1</td>\n",
       "      <td>0</td>\n",
       "      <td>-1</td>\n",
       "      <td>0</td>\n",
       "      <td>0</td>\n",
       "      <td>...</td>\n",
       "      <td>20940</td>\n",
       "      <td>19146</td>\n",
       "      <td>19131</td>\n",
       "      <td>2000</td>\n",
       "      <td>36681</td>\n",
       "      <td>10000</td>\n",
       "      <td>9000</td>\n",
       "      <td>689</td>\n",
       "      <td>679</td>\n",
       "      <td>0</td>\n",
       "    </tr>\n",
       "  </tbody>\n",
       "</table>\n",
       "<p>5 rows × 24 columns</p>\n",
       "</div>"
      ],
      "text/plain": [
       "   LIMIT_BAL  SEX  EDUCATION  MARRIAGE  AGE  PAY_1  PAY_2  PAY_3  PAY_4  \\\n",
       "0      20000    2          2         1   24      2      2     -1     -1   \n",
       "1     120000    2          2         2   26     -1      2      0      0   \n",
       "2      90000    2          2         2   34      0      0      0      0   \n",
       "3      50000    2          2         1   37      0      0      0      0   \n",
       "4      50000    1          2         1   57     -1      0     -1      0   \n",
       "\n",
       "   PAY_5  ...  BILL_AMT4  BILL_AMT5  BILL_AMT6  PAY_AMT1  PAY_AMT2  PAY_AMT3  \\\n",
       "0     -2  ...          0          0          0         0       689         0   \n",
       "1      0  ...       3272       3455       3261         0      1000      1000   \n",
       "2      0  ...      14331      14948      15549      1518      1500      1000   \n",
       "3      0  ...      28314      28959      29547      2000      2019      1200   \n",
       "4      0  ...      20940      19146      19131      2000     36681     10000   \n",
       "\n",
       "   PAY_AMT4  PAY_AMT5  PAY_AMT6  default payment next month  \n",
       "0         0         0         0                           1  \n",
       "1      1000         0      2000                           1  \n",
       "2      1000      1000      5000                           0  \n",
       "3      1100      1069      1000                           0  \n",
       "4      9000       689       679                           0  \n",
       "\n",
       "[5 rows x 24 columns]"
      ]
     },
     "execution_count": 3,
     "metadata": {},
     "output_type": "execute_result"
    }
   ],
   "source": [
    "# Load the data\n",
    "data_url = \"http://archive.ics.uci.edu/ml/machine-learning-databases/00350/default%20of%20credit%20card%20clients.xls\"\n",
    "dataset = pd.read_excel(io=data_url, header=1).drop(columns=['ID']).rename(columns={'PAY_0':'PAY_1'})\n",
    "dataset.head()"
   ]
  },
  {
   "cell_type": "markdown",
   "metadata": {},
   "source": [
    "Dataset columns:\n",
    "\n",
    "* `LIMIT_BAL`: credit card limit, will be replaced by a synthetic feature\n",
    "* `SEX, EDUCATION, MARRIAGE, AGE`: client demographic features\n",
    "* `BILL_AMT[1-6]`: amount on bill statement for April-September\n",
    "* `PAY_AMT[1-6]`: payment amount for April-September\n",
    "* `default payment next month`: target, whether the client defaulted the following month"
   ]
  },
  {
   "cell_type": "code",
   "execution_count": 4,
   "metadata": {},
   "outputs": [],
   "source": [
    "# Extract the sensitive feature\n",
    "A = dataset[\"SEX\"]\n",
    "A_str = A.map({ 2:\"female\", 1:\"male\"})\n",
    "# Extract the target\n",
    "Y = dataset[\"default payment next month\"]\n",
    "categorical_features = ['EDUCATION', 'MARRIAGE','PAY_1', 'PAY_2', 'PAY_3', 'PAY_4', 'PAY_5', 'PAY_6']\n",
    "for col in categorical_features:\n",
    "    dataset[col] = dataset[col].astype('category')"
   ]
  },
  {
   "cell_type": "markdown",
   "metadata": {},
   "source": [
    "### Introduce a Synthetic Feature\n",
    "\n",
    "We manipulate the balance-limit feature `LIMIT_BAL` to make it highly predictive for the \"female\" group but not for the \"male\" group. Specifically, we set this up, so that a lower credit limit indicates that a female client is less likely to default, but provides no information on a male client's probability of default."
   ]
  },
  {
   "cell_type": "code",
   "execution_count": 5,
   "metadata": {},
   "outputs": [],
   "source": [
    "dist_scale = 0.5\n",
    "np.random.seed(12345)\n",
    "# Make 'LIMIT_BAL' informative of the target\n",
    "dataset['LIMIT_BAL'] = Y + np.random.normal(scale=dist_scale, size=dataset.shape[0])\n",
    "# But then make it uninformative for the male clients\n",
    "dataset.loc[A==1, 'LIMIT_BAL'] = np.random.normal(scale=dist_scale, size=dataset[A==1].shape[0])"
   ]
  },
  {
   "cell_type": "code",
   "execution_count": 6,
   "metadata": {},
   "outputs": [
    {
     "data": {
      "image/png": "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\n",
      "text/plain": [
       "<Figure size 720x288 with 2 Axes>"
      ]
     },
     "metadata": {
      "needs_background": "light"
     },
     "output_type": "display_data"
    }
   ],
   "source": [
    "fig, (ax1, ax2) = plt.subplots(ncols=2, figsize=(10, 4), sharey=True)\n",
    "# Plot distribution of LIMIT_BAL for men\n",
    "dataset['LIMIT_BAL'][(A==1) & (Y==0)].plot(kind='kde', label=\"Payment on time\", ax=ax1, \n",
    "                                           title=\"LIMIT_BAL distribution for \\\"male\\\" group\")\n",
    "dataset['LIMIT_BAL'][(A==1) & (Y==1)].plot(kind='kde', label=\"Default\", ax=ax1)\n",
    "# Plot distribution of LIMIT_BAL for women\n",
    "dataset['LIMIT_BAL'][(A==2) & (Y==0)].plot(kind='kde', label=\"Payment on time\", ax=ax2, \n",
    "                                           legend=True, title=\"LIMIT_BAL distribution for \\\"female\\\" group\")\n",
    "dataset['LIMIT_BAL'][(A==2) & (Y==1)].plot(kind='kde', label=\"Default\", ax=ax2, \n",
    "                                           legend=True).legend(bbox_to_anchor=(1.6, 1))\n",
    "plt.show()"
   ]
  },
  {
   "cell_type": "markdown",
   "metadata": {},
   "source": [
    "Note in the above figures that the new `LIMIT_BAL` feature is indeed highly predictive for the \"female\" group, but not for the \"male\" group."
   ]
  },
  {
   "cell_type": "code",
   "execution_count": 7,
   "metadata": {},
   "outputs": [],
   "source": [
    "# Train-test split\n",
    "df_train, df_test, Y_train, Y_test, A_train, A_test, A_str_train, A_str_test = train_test_split(\n",
    "    dataset.drop(columns=['SEX', 'default payment next month']), \n",
    "    Y, \n",
    "    A, \n",
    "    A_str,\n",
    "    test_size = 0.3, \n",
    "    random_state=12345,\n",
    "    stratify=Y)"
   ]
  },
  {
   "cell_type": "markdown",
   "metadata": {},
   "source": [
    "## Using a Fairness Unaware Model"
   ]
  },
  {
   "cell_type": "markdown",
   "metadata": {},
   "source": [
    "We train an out-of-the-box `lightgbm` model on the modified data and assess several fairness metrics. "
   ]
  },
  {
   "cell_type": "code",
   "execution_count": 8,
   "metadata": {},
   "outputs": [],
   "source": [
    "lgb_params = {\n",
    "    'objective' : 'binary',\n",
    "    'metric' : 'auc',\n",
    "    'learning_rate': 0.03,\n",
    "    'num_leaves' : 10,\n",
    "    'max_depth' : 3\n",
    "}"
   ]
  },
  {
   "cell_type": "code",
   "execution_count": 9,
   "metadata": {},
   "outputs": [],
   "source": [
    "model = lgb.LGBMClassifier(**lgb_params)"
   ]
  },
  {
   "cell_type": "code",
   "execution_count": 10,
   "metadata": {},
   "outputs": [
    {
     "data": {
      "text/plain": [
       "LGBMClassifier(learning_rate=0.03, max_depth=3, metric='auc', num_leaves=10,\n",
       "               objective='binary')"
      ]
     },
     "execution_count": 10,
     "metadata": {},
     "output_type": "execute_result"
    }
   ],
   "source": [
    "model.fit(df_train, Y_train)"
   ]
  },
  {
   "cell_type": "code",
   "execution_count": 11,
   "metadata": {},
   "outputs": [],
   "source": [
    "# Scores on test set\n",
    "test_scores = model.predict_proba(df_test)[:, 1]"
   ]
  },
  {
   "cell_type": "code",
   "execution_count": 12,
   "metadata": {},
   "outputs": [
    {
     "data": {
      "text/plain": [
       "0.8500200312035275"
      ]
     },
     "execution_count": 12,
     "metadata": {},
     "output_type": "execute_result"
    }
   ],
   "source": [
    "# Train AUC\n",
    "roc_auc_score(Y_train, model.predict_proba(df_train)[:, 1])"
   ]
  },
  {
   "cell_type": "code",
   "execution_count": 13,
   "metadata": {},
   "outputs": [],
   "source": [
    "# Predictions (0 or 1) on test set\n",
    "test_preds = (test_scores >= np.mean(Y_train)) * 1"
   ]
  },
  {
   "cell_type": "code",
   "execution_count": 14,
   "metadata": {},
   "outputs": [
    {
     "data": {
      "text/plain": [
       "(2413, 9000)"
      ]
     },
     "execution_count": 14,
     "metadata": {},
     "output_type": "execute_result"
    }
   ],
   "source": [
    "test_preds.sum(), test_preds.shape[0]"
   ]
  },
  {
   "cell_type": "code",
   "execution_count": 15,
   "metadata": {},
   "outputs": [
    {
     "data": {
      "image/png": "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\n",
      "text/plain": [
       "<Figure size 432x288 with 1 Axes>"
      ]
     },
     "metadata": {
      "needs_background": "light"
     },
     "output_type": "display_data"
    }
   ],
   "source": [
    "# LightGBM feature importance \n",
    "lgb.plot_importance(model, height=0.6, title=\"Features importance (LightGBM)\", importance_type=\"gain\", max_num_features=15) \n",
    "plt.show()"
   ]
  },
  {
   "cell_type": "markdown",
   "metadata": {},
   "source": [
    "We notice that the synthetic feature `LIMIT_BAL` appears as the most important feature in this model although it has no predictive power for an entire demographic segment in the data.\n",
    "\n",
    "We next use Fairlearn's `MetricFrame` to examine the the two different kinds of errors (false positives and false negatives) on the test data."
   ]
  },
  {
   "cell_type": "code",
   "execution_count": null,
   "metadata": {},
   "outputs": [],
   "source": [
    "mf = MetricFrame({\n",
    "    'FPR': false_positive_rate,\n",
    "    'FNR': false_negative_rate},\n",
    "    Y_test, test_preds, sensitive_features=A_str_test)\n",
    "\n",
    "mf.by_group"
   ]
  },
  {
   "cell_type": "markdown",
   "metadata": {},
   "source": [
    "Note that both kinds of errors are more common in the \"male\" group than in the \"female\" group."
   ]
  },
  {
   "cell_type": "code",
   "execution_count": 16,
   "metadata": {},
   "outputs": [],
   "source": [
    "# Helper functions\n",
    "def get_metrics_df(models_dict, y_true, group):\n",
    "    metrics_dict = {\n",
    "        \"Overall selection rate\": (\n",
    "            lambda x: selection_rate(y_true, x), True),\n",
    "        \"Demographic parity difference\": (\n",
    "            lambda x: demographic_parity_difference(y_true, x, sensitive_features=group), True),\n",
    "        \"Demographic parity ratio\": (\n",
    "            lambda x: demographic_parity_ratio(y_true, x, sensitive_features=group), True),\n",
    "        \"------\": (lambda x: \"\", True),\n",
    "        \"Overall balanced error rate\": (\n",
    "            lambda x: 1-balanced_accuracy_score(y_true, x), True),\n",
    "        \"Balanced error rate difference\": (\n",
    "            lambda x: MetricFrame(metrics=balanced_accuracy_score, y_true=y_true, y_pred=x, sensitive_features=group).difference(method='between_groups'), True),\n",
    "        \" ------\": (lambda x: \"\", True),\n",
    "        \"False positive rate difference\": (\n",
    "            lambda x: false_positive_rate_difference(y_true, x, sensitive_features=group), True),\n",
    "        \"False negative rate difference\": (\n",
    "            lambda x: false_negative_rate_difference(y_true, x, sensitive_features=group), True),\n",
    "        \"Equalized odds difference\": (\n",
    "            lambda x: equalized_odds_difference(y_true, x, sensitive_features=group), True),\n",
    "        \"  ------\": (lambda x: \"\", True),\n",
    "        \"Overall AUC\": (\n",
    "            lambda x: roc_auc_score(y_true, x), False),\n",
    "        \"AUC difference\": (\n",
    "            lambda x: MetricFrame(metrics=roc_auc_score, y_true=y_true, y_pred=x, sensitive_features=group).difference(method='between_groups'), False),\n",
    "    }\n",
    "    df_dict = {}\n",
    "    for metric_name, (metric_func, use_preds) in metrics_dict.items():\n",
    "        df_dict[metric_name] = [metric_func(preds) if use_preds else metric_func(scores) \n",
    "                                for model_name, (preds, scores) in models_dict.items()]\n",
    "    return pd.DataFrame.from_dict(df_dict, orient=\"index\", columns=models_dict.keys())"
   ]
  },
  {
   "cell_type": "markdown",
   "metadata": {},
   "source": [
    "We calculate several performance and fairness metrics below:"
   ]
  },
  {
   "cell_type": "code",
   "execution_count": 17,
   "metadata": {},
   "outputs": [
    {
     "data": {
      "text/html": [
       "<div>\n",
       "<style scoped>\n",
       "    .dataframe tbody tr th:only-of-type {\n",
       "        vertical-align: middle;\n",
       "    }\n",
       "\n",
       "    .dataframe tbody tr th {\n",
       "        vertical-align: top;\n",
       "    }\n",
       "\n",
       "    .dataframe thead th {\n",
       "        text-align: right;\n",
       "    }\n",
       "</style>\n",
       "<table border=\"1\" class=\"dataframe\">\n",
       "  <thead>\n",
       "    <tr style=\"text-align: right;\">\n",
       "      <th></th>\n",
       "      <th>Unmitigated</th>\n",
       "    </tr>\n",
       "  </thead>\n",
       "  <tbody>\n",
       "    <tr>\n",
       "      <th>Overall selection rate</th>\n",
       "      <td>0.268111</td>\n",
       "    </tr>\n",
       "    <tr>\n",
       "      <th>Demographic parity difference</th>\n",
       "      <td>0.0511053</td>\n",
       "    </tr>\n",
       "    <tr>\n",
       "      <th>Demographic parity ratio</th>\n",
       "      <td>0.8225</td>\n",
       "    </tr>\n",
       "    <tr>\n",
       "      <th>-----</th>\n",
       "      <td></td>\n",
       "    </tr>\n",
       "    <tr>\n",
       "      <th>Overall balanced error rate</th>\n",
       "      <td>0.220682</td>\n",
       "    </tr>\n",
       "    <tr>\n",
       "      <th>Balanced error rate difference</th>\n",
       "      <td>0.175789</td>\n",
       "    </tr>\n",
       "    <tr>\n",
       "      <th>Equalized odds difference</th>\n",
       "      <td>0.342283</td>\n",
       "    </tr>\n",
       "    <tr>\n",
       "      <th>------</th>\n",
       "      <td></td>\n",
       "    </tr>\n",
       "    <tr>\n",
       "      <th>Overall AUC</th>\n",
       "      <td>0.851931</td>\n",
       "    </tr>\n",
       "    <tr>\n",
       "      <th>AUC difference</th>\n",
       "      <td>0.189712</td>\n",
       "    </tr>\n",
       "  </tbody>\n",
       "</table>\n",
       "</div>"
      ],
      "text/plain": [
       "                               Unmitigated\n",
       "Overall selection rate            0.268111\n",
       "Demographic parity difference    0.0511053\n",
       "Demographic parity ratio            0.8225\n",
       "-----                                     \n",
       "Overall balanced error rate       0.220682\n",
       "Balanced error rate difference    0.175789\n",
       "Equalized odds difference         0.342283\n",
       "------                                    \n",
       "Overall AUC                       0.851931\n",
       "AUC difference                    0.189712"
      ]
     },
     "execution_count": 17,
     "metadata": {},
     "output_type": "execute_result"
    }
   ],
   "source": [
    "# Metrics\n",
    "models_dict = {\"Unmitigated\": (test_preds, test_scores)}\n",
    "get_metrics_df(models_dict, Y_test, A_str_test)"
   ]
  },
  {
   "cell_type": "markdown",
   "metadata": {},
   "source": [
    "As the overall performance metric we use the _area under ROC curve_ (AUC), which is suited to classification problems with a large imbalance between positive and negative examples. For binary classifiers, this is the same as _balanced accuracy_.\n",
    "\n",
    "As the fairness metric we use *equalized odds difference*, which quantifies the disparity in accuracy experienced by different demographics. Our goal is to assure that neither of the two groups (\"male\" vs \"female\") has substantially larger false-positive rates or false-negative rates than the other group. The equalized odds difference is equal to the larger of the following two numbers: (1) the difference between false-positive rates of the two groups, (2) the difference between false-negative rates of the two groups.\n",
    "\n",
    "The table above shows the overall AUC of 0.85 (based on continuous predictions) and the overall balanced error rate of 0.22 (based on 0/1 predictions). Both of these are satisfactory in our application context. However, there is a large disparity in accuracy rates (as indicated by the balanced error rate difference) and even larger when we consider the equalized-odds difference. As a sanity check, we also show the demographic parity ratio, whose level (slightly above 0.8) is considered satisfactory in this context."
   ]
  },
  {
   "cell_type": "markdown",
   "metadata": {},
   "source": [
    "## Mitigating Equalized Odds Difference with Postprocessing"
   ]
  },
  {
   "cell_type": "markdown",
   "metadata": {},
   "source": [
    "We attempt to mitigate the disparities in the `lightgbm` predictions using the Fairlearn postprocessing algorithm `ThresholdOptimizer`. This algorithm finds a suitable threshold for the scores (class probabilities) produced by the `lightgbm` model by optimizing the accuracy rate under the constraint that the equalized odds difference (on training data) is zero. Since our goal is to optimize balanced accuracy, we resample the training data to have the same number of positive and negative examples. This means that `ThresholdOptimizer` is effectively optimizing balanced accuracy on the original data."
   ]
  },
  {
   "cell_type": "code",
   "execution_count": 18,
   "metadata": {},
   "outputs": [],
   "source": [
    "postprocess_est = ThresholdOptimizer(\n",
    "    estimator=model,\n",
    "    constraints=\"equalized_odds\",\n",
    "    prefit=True)"
   ]
  },
  {
   "cell_type": "code",
   "execution_count": 19,
   "metadata": {},
   "outputs": [],
   "source": [
    "# Balanced data set is obtained by sampling the same number of points from the majority class (Y=0)\n",
    "# as there are points in the minority class (Y=1)\n",
    "balanced_idx1 = df_train[Y_train==1].index\n",
    "pp_train_idx = balanced_idx1.union(Y_train[Y_train==0].sample(n=balanced_idx1.size, random_state=1234).index)"
   ]
  },
  {
   "cell_type": "code",
   "execution_count": 20,
   "metadata": {},
   "outputs": [],
   "source": [
    "df_train_balanced = df_train.loc[pp_train_idx, :]\n",
    "Y_train_balanced = Y_train.loc[pp_train_idx]\n",
    "A_train_balanced = A_train.loc[pp_train_idx]"
   ]
  },
  {
   "cell_type": "code",
   "execution_count": 21,
   "metadata": {},
   "outputs": [
    {
     "data": {
      "text/plain": [
       "ThresholdOptimizer(constraints='equalized_odds',\n",
       "                   estimator=LGBMClassifier(learning_rate=0.03, max_depth=3,\n",
       "                                            metric='auc', num_leaves=10,\n",
       "                                            objective='binary'))"
      ]
     },
     "execution_count": 21,
     "metadata": {},
     "output_type": "execute_result"
    }
   ],
   "source": [
    "postprocess_est.fit(df_train_balanced, Y_train_balanced, sensitive_features=A_train_balanced)"
   ]
  },
  {
   "cell_type": "code",
   "execution_count": 22,
   "metadata": {},
   "outputs": [],
   "source": [
    "postprocess_preds = postprocess_est.predict(df_test, sensitive_features=A_test)"
   ]
  },
  {
   "cell_type": "code",
   "execution_count": 23,
   "metadata": {},
   "outputs": [
    {
     "data": {
      "text/plain": [
       "2016"
      ]
     },
     "execution_count": 23,
     "metadata": {},
     "output_type": "execute_result"
    }
   ],
   "source": [
    "postprocess_preds.sum()"
   ]
  },
  {
   "cell_type": "code",
   "execution_count": 24,
   "metadata": {},
   "outputs": [
    {
     "data": {
      "text/html": [
       "<div>\n",
       "<style scoped>\n",
       "    .dataframe tbody tr th:only-of-type {\n",
       "        vertical-align: middle;\n",
       "    }\n",
       "\n",
       "    .dataframe tbody tr th {\n",
       "        vertical-align: top;\n",
       "    }\n",
       "\n",
       "    .dataframe thead th {\n",
       "        text-align: right;\n",
       "    }\n",
       "</style>\n",
       "<table border=\"1\" class=\"dataframe\">\n",
       "  <thead>\n",
       "    <tr style=\"text-align: right;\">\n",
       "      <th></th>\n",
       "      <th>Unmitigated</th>\n",
       "      <th>ThresholdOptimizer</th>\n",
       "    </tr>\n",
       "  </thead>\n",
       "  <tbody>\n",
       "    <tr>\n",
       "      <th>Overall selection rate</th>\n",
       "      <td>0.268111</td>\n",
       "      <td>0.224</td>\n",
       "    </tr>\n",
       "    <tr>\n",
       "      <th>Demographic parity difference</th>\n",
       "      <td>0.0511053</td>\n",
       "      <td>0.0129613</td>\n",
       "    </tr>\n",
       "    <tr>\n",
       "      <th>Demographic parity ratio</th>\n",
       "      <td>0.8225</td>\n",
       "      <td>0.944117</td>\n",
       "    </tr>\n",
       "    <tr>\n",
       "      <th>-----</th>\n",
       "      <td></td>\n",
       "      <td></td>\n",
       "    </tr>\n",
       "    <tr>\n",
       "      <th>Overall balanced error rate</th>\n",
       "      <td>0.220682</td>\n",
       "      <td>0.32296</td>\n",
       "    </tr>\n",
       "    <tr>\n",
       "      <th>Balanced error rate difference</th>\n",
       "      <td>0.175789</td>\n",
       "      <td>0.00201698</td>\n",
       "    </tr>\n",
       "    <tr>\n",
       "      <th>Equalized odds difference</th>\n",
       "      <td>0.342283</td>\n",
       "      <td>0.00264508</td>\n",
       "    </tr>\n",
       "    <tr>\n",
       "      <th>------</th>\n",
       "      <td></td>\n",
       "      <td></td>\n",
       "    </tr>\n",
       "    <tr>\n",
       "      <th>Overall AUC</th>\n",
       "      <td>0.851931</td>\n",
       "      <td>0.67704</td>\n",
       "    </tr>\n",
       "    <tr>\n",
       "      <th>AUC difference</th>\n",
       "      <td>0.189712</td>\n",
       "      <td>0.00201698</td>\n",
       "    </tr>\n",
       "  </tbody>\n",
       "</table>\n",
       "</div>"
      ],
      "text/plain": [
       "                               Unmitigated ThresholdOptimizer\n",
       "Overall selection rate            0.268111              0.224\n",
       "Demographic parity difference    0.0511053          0.0129613\n",
       "Demographic parity ratio            0.8225           0.944117\n",
       "-----                                                        \n",
       "Overall balanced error rate       0.220682            0.32296\n",
       "Balanced error rate difference    0.175789         0.00201698\n",
       "Equalized odds difference         0.342283         0.00264508\n",
       "------                                                       \n",
       "Overall AUC                       0.851931            0.67704\n",
       "AUC difference                    0.189712         0.00201698"
      ]
     },
     "execution_count": 24,
     "metadata": {},
     "output_type": "execute_result"
    }
   ],
   "source": [
<<<<<<< HEAD
    "models_dict = {\"Unmitigated\": (test_preds, test_scores),\n",
    "              \"ThresholdOptimizer\": (postprocess_preds, postprocess_preds)}\n",
    "get_metrics_df(models_dict, Y_test, A_str_test)"
   ]
  },
  {
   "cell_type": "markdown",
   "metadata": {},
   "source": [
=======
>>>>>>> 771d6cd061cee1314fbad46785011d9d98075818
    "The `ThresholdOptimizer` algorithm significantly reduces the disparity according to multiple metrics. However, the performance metrics (balanced error rate as well as AUC) get worse. Before deploying such a model in practice, it would be important to examine in more detail why we observe such a sharp trade-off. In our case it is because the available features are much less informative for one of the demographic groups than for the other.\n",
    "\n",
    "Note that unlike the unmitigated model, `ThresholdOptimizer` produces 0/1 predictions, so its balanced error rate difference is equal to the AUC difference, and its overall balanced error rate is equal to 1 - overall AUC."
   ]
  },
  {
   "cell_type": "markdown",
   "metadata": {},
   "source": [
    "## Mitigating Equalized Odds Difference with GridSearch"
   ]
  },
  {
   "cell_type": "markdown",
   "metadata": {},
   "source": [
    "We now attempt to mitigate disparities using the `GridSearch` algorithm. Unlike `ThresholdOptimizer`, the predictors produced by `GridSearch` do not access the sensitive feature at test time. Also, rather than training a single model, we train multiple models corresponding to different trade-off points between the performance metric (balanced accuracy) and fairness metric (equalized odds difference)."
   ]
  },
  {
   "cell_type": "code",
   "execution_count": 25,
   "metadata": {
    "scrolled": true
   },
   "outputs": [
    {
     "name": "stdout",
     "output_type": "stream",
     "text": [
      "Finished loading model, total used 100 iterations\n",
      "Finished loading model, total used 100 iterations\n",
      "Finished loading model, total used 100 iterations\n",
      "Finished loading model, total used 100 iterations\n",
      "Finished loading model, total used 100 iterations\n",
      "Finished loading model, total used 100 iterations\n",
      "Finished loading model, total used 100 iterations\n",
      "Finished loading model, total used 100 iterations\n",
      "Finished loading model, total used 100 iterations\n",
      "Finished loading model, total used 100 iterations\n",
      "Finished loading model, total used 100 iterations\n",
      "Finished loading model, total used 100 iterations\n",
      "Finished loading model, total used 100 iterations\n",
      "Finished loading model, total used 100 iterations\n",
      "Finished loading model, total used 100 iterations\n",
      "Finished loading model, total used 100 iterations\n",
      "Finished loading model, total used 100 iterations\n",
      "Finished loading model, total used 100 iterations\n",
      "Finished loading model, total used 100 iterations\n",
      "Finished loading model, total used 100 iterations\n",
      "Finished loading model, total used 100 iterations\n",
      "Finished loading model, total used 100 iterations\n",
      "Finished loading model, total used 100 iterations\n",
      "Finished loading model, total used 100 iterations\n",
      "Finished loading model, total used 100 iterations\n",
      "Finished loading model, total used 100 iterations\n",
      "Finished loading model, total used 100 iterations\n",
      "Finished loading model, total used 100 iterations\n",
      "Finished loading model, total used 100 iterations\n",
      "Finished loading model, total used 100 iterations\n",
      "Finished loading model, total used 100 iterations\n",
      "Finished loading model, total used 100 iterations\n",
      "Finished loading model, total used 100 iterations\n",
      "Finished loading model, total used 100 iterations\n",
      "Finished loading model, total used 100 iterations\n",
      "Finished loading model, total used 100 iterations\n",
      "Finished loading model, total used 100 iterations\n",
      "Finished loading model, total used 100 iterations\n",
      "Finished loading model, total used 100 iterations\n",
      "Finished loading model, total used 100 iterations\n",
      "Finished loading model, total used 100 iterations\n"
     ]
    }
   ],
   "source": [
    "# Train GridSearch\n",
    "sweep = GridSearch(model,\n",
    "                   constraints=EqualizedOdds(),\n",
    "                   grid_size=50,\n",
    "                   grid_limit=3)\n",
    "\n",
    "sweep.fit(df_train_balanced, Y_train_balanced, sensitive_features=A_train_balanced)"
   ]
  },
  {
   "cell_type": "code",
   "execution_count": 26,
   "metadata": {},
   "outputs": [],
   "source": [
    "sweep_preds = [predictor.predict(df_test) for predictor in sweep.predictors_] \n",
    "sweep_scores = [predictor.predict_proba(df_test)[:, 1] for predictor in sweep.predictors_] "
   ]
  },
  {
   "cell_type": "code",
   "execution_count": 27,
   "metadata": {},
   "outputs": [],
   "source": [
    "equalized_odds_sweep = [\n",
    "    equalized_odds_difference(Y_test, preds, sensitive_features=A_str_test)\n",
    "    for preds in sweep_preds\n",
    "]\n",
    "balanced_accuracy_sweep = [balanced_accuracy_score(Y_test, preds) for preds in sweep_preds]\n",
    "auc_sweep = [roc_auc_score(Y_test, scores) for scores in sweep_scores]"
   ]
  },
  {
   "cell_type": "code",
   "execution_count": 28,
   "metadata": {},
   "outputs": [],
   "source": [
    "# Select only non-dominated models (with respect to balanced accuracy and equalized odds difference)\n",
    "all_results = pd.DataFrame(\n",
    "    {\"predictor\": sweep.predictors_, \"accuracy\": balanced_accuracy_sweep, \"disparity\": equalized_odds_sweep}\n",
    ") \n",
    "non_dominated = [] \n",
    "for row in all_results.itertuples(): \n",
    "    accuracy_for_lower_or_eq_disparity = all_results[\"accuracy\"][all_results[\"disparity\"] <= row.disparity] \n",
    "    if row.accuracy >= accuracy_for_lower_or_eq_disparity.max(): \n",
    "        non_dominated.append(True)\n",
    "    else:\n",
    "        non_dominated.append(False)\n",
    "\n",
    "equalized_odds_sweep_non_dominated = np.asarray(equalized_odds_sweep)[non_dominated]\n",
    "balanced_accuracy_non_dominated = np.asarray(balanced_accuracy_sweep)[non_dominated]\n",
    "auc_non_dominated = np.asarray(auc_sweep)[non_dominated]"
   ]
  },
  {
   "cell_type": "code",
   "execution_count": 29,
   "metadata": {},
   "outputs": [
    {
     "data": {
      "image/png": "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\n",
      "text/plain": [
       "<Figure size 432x288 with 1 Axes>"
      ]
     },
     "metadata": {
      "needs_background": "light"
     },
     "output_type": "display_data"
    }
   ],
   "source": [
    "# Plot equalized odds difference vs balanced accuracy\n",
    "plt.scatter(balanced_accuracy_non_dominated, equalized_odds_sweep_non_dominated, label=\"GridSearch Models\")\n",
    "plt.scatter(balanced_accuracy_score(Y_test, test_preds),\n",
    "            equalized_odds_difference(Y_test, test_preds, sensitive_features=A_str_test), \n",
    "            label=\"Unmitigated Model\")\n",
    "plt.scatter(balanced_accuracy_score(Y_test, postprocess_preds), \n",
    "            equalized_odds_difference(Y_test, postprocess_preds, sensitive_features=A_str_test),\n",
    "            label=\"ThresholdOptimizer Model\")\n",
    "plt.xlabel(\"Balanced Accuracy\")\n",
    "plt.ylabel(\"Equalized Odds Difference\")\n",
    "plt.legend(bbox_to_anchor=(1.55, 1))\n",
    "plt.show()"
   ]
  },
  {
   "cell_type": "markdown",
   "metadata": {},
   "source": [
    "As intended, `GridSearch` models appear along the trade-off curve between the large balanced accuracy (but also large disparity), and low disparity (but worse balanced accuracy). This gives the data scientist a flexibility to select a model that fits the application context best."
   ]
  },
  {
   "cell_type": "code",
   "execution_count": 30,
   "metadata": {},
   "outputs": [
    {
     "data": {
      "image/png": "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\n",
      "text/plain": [
       "<Figure size 432x288 with 1 Axes>"
      ]
     },
     "metadata": {
      "needs_background": "light"
     },
     "output_type": "display_data"
    }
   ],
   "source": [
    "# Plot equalized odds difference vs AUC\n",
    "plt.scatter(auc_non_dominated, equalized_odds_sweep_non_dominated, label=\"GridSearch Models\")\n",
    "plt.scatter(roc_auc_score(Y_test, test_scores),\n",
    "            equalized_odds_difference(Y_test, test_preds, sensitive_features=A_str_test), \n",
    "            label=\"Unmitigated Model\")\n",
    "plt.scatter(roc_auc_score(Y_test, postprocess_preds), \n",
    "            equalized_odds_difference(Y_test, postprocess_preds, sensitive_features=A_str_test),\n",
    "            label=\"ThresholdOptimizer Model\")\n",
    "plt.xlabel(\"AUC\")\n",
    "plt.ylabel(\"Equalized Odds Difference\")\n",
    "plt.legend(bbox_to_anchor=(1.55, 1))\n",
    "plt.show()"
   ]
  },
  {
   "cell_type": "markdown",
   "metadata": {},
   "source": [
    "Similarly, `GridSearch` models appear along the trade-off curve between AUC and equalized odds difference."
   ]
  },
  {
   "cell_type": "code",
   "execution_count": 31,
   "metadata": {},
   "outputs": [],
   "source": [
<<<<<<< HEAD
    "#Should we remove the section\n",
    "model_sweep_dict = {\"GridSearch_{}\".format(i): sweep_preds[i] for i in range(len(sweep_preds)) if non_dominated[i]}\n",
    "model_sweep_dict.update({\"Unmitigated\": test_preds, \"ThresholdOptimizer\": postprocess_preds})"
=======
    "# Compare GridSearch models with low values of equalized odds difference with the previously constructed models\n",
    "grid_search_dict = {\"GridSearch_{}\".format(i): (sweep_preds[i], sweep_scores[i])\n",
    "                    for i in range(len(sweep_preds))\n",
    "                    if non_dominated[i] and equalized_odds_sweep[i]<0.1}\n",
    "models_dict.update(grid_search_dict)\n",
    "get_metrics_df(models_dict, Y_test, A_str_test)"
>>>>>>> 771d6cd061cee1314fbad46785011d9d98075818
   ]
  },
  {
   "cell_type": "markdown",
   "metadata": {},
   "source": [
    "## Conclusion"
   ]
  },
  {
   "cell_type": "markdown",
   "metadata": {},
   "source": [
<<<<<<< HEAD
    "In this notebook, we explored how a fairness-unaware Gradient Boosting Tree model performed on the classification task in contrast to the post-processed `ThresholdOptimizer` model and the `GridSearch` model. The `ThresholdOptimizer` greatly reduced the disparity in performance across multiple fairness metrics. However the overall error rate and AUC for the `ThresholdOptimizer` model were worse compared to the fairness-unaware model. \n",
    "\n",
    "With the `GridSearch` process, we trained multiple models that balance the trade-off between the balanced accuracy and the equalized odds fairness metric. After engaging with relevant stakeholders, the data scientist can deploy the model that balances the performance-fairness trade-off that meets the needs of the business."
=======
    "In this notebook, we explored how a fairness-unaware gradient boosted trees model performed on the classification task in contrast to the postprocessed `ThresholdOptimizer` model and the `GridSearch` model. The `ThresholdOptimizer` greatly reduced the disparity in performance across multiple fairness metrics. However the overall error rate and AUC for the `ThresholdOptimizer` model were worse compared to the fairness-unaware model. \n",
    "\n",
    "With the `GridSearch` algorithm, we trained multiple models that balance the trade-off between the balanced accuracy and the equalized odds fairness metric. After engaging with relevant stakeholders, the data scientist can deploy the model that balances the performance-fairness trade-off that meets the needs of the business."
>>>>>>> 771d6cd061cee1314fbad46785011d9d98075818
   ]
  }
 ],
 "metadata": {
  "kernelspec": {
   "display_name": "Python 3",
   "language": "python",
   "name": "python3"
  },
  "language_info": {
   "codemirror_mode": {
    "name": "ipython",
    "version": 3
   },
   "file_extension": ".py",
   "mimetype": "text/x-python",
   "name": "python",
   "nbconvert_exporter": "python",
   "pygments_lexer": "ipython3",
<<<<<<< HEAD
   "version": "3.8.5"
=======
   "version": "3.8.10"
>>>>>>> 771d6cd061cee1314fbad46785011d9d98075818
  }
 },
 "nbformat": 4,
 "nbformat_minor": 4
}
